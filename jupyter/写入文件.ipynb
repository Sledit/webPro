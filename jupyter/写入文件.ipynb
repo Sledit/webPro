{
 "cells": [
  {
   "cell_type": "code",
   "execution_count": 1,
   "id": "1d0f7dfb",
   "metadata": {},
   "outputs": [
    {
     "name": "stdout",
     "output_type": "stream",
     "text": [
      "Looking in indexes: https://pypi.tuna.tsinghua.edu.cn/simple\n",
      "Requirement already satisfied: pandas in c:\\toolsetups\\anaconda\\lib\\site-packages (1.5.3)\n",
      "Requirement already satisfied: python-dateutil>=2.8.1 in c:\\toolsetups\\anaconda\\lib\\site-packages (from pandas) (2.8.2)\n",
      "Requirement already satisfied: pytz>=2020.1 in c:\\toolsetups\\anaconda\\lib\\site-packages (from pandas) (2022.7)\n",
      "Requirement already satisfied: numpy>=1.21.0 in c:\\toolsetups\\anaconda\\lib\\site-packages (from pandas) (1.23.5)\n",
      "Requirement already satisfied: six>=1.5 in c:\\toolsetups\\anaconda\\lib\\site-packages (from python-dateutil>=2.8.1->pandas) (1.16.0)\n",
      "Note: you may need to restart the kernel to use updated packages.\n"
     ]
    },
    {
     "name": "stderr",
     "output_type": "stream",
     "text": [
      "\n",
      "[notice] A new release of pip is available: 23.1.2 -> 24.0\n",
      "[notice] To update, run: python.exe -m pip install --upgrade pip\n"
     ]
    }
   ],
   "source": [
    "pip install pandas"
   ]
  },
  {
   "cell_type": "code",
   "execution_count": 2,
   "id": "fe6f15c8",
   "metadata": {},
   "outputs": [
    {
     "name": "stdout",
     "output_type": "stream",
     "text": [
      "马\n"
     ]
    }
   ],
   "source": [
    "import pandas as pd\n",
    "\n",
    "   # 读取Excel文件\n",
    "df = pd.read_excel('数值设置新项目.xlsx')\n",
    "\n",
    "   # 获取第一行第一列的数据\n",
    "first_row_first_column = df.iloc[0, 0]\n",
    "\n",
    "# 打印数据\n",
    "print(first_row_first_column)"
   ]
  },
  {
   "cell_type": "code",
   "execution_count": 10,
   "id": "7e085642",
   "metadata": {},
   "outputs": [],
   "source": [
    "import pandas as pd\n",
    "\n",
    "# 读取Excel文件\n",
    "df = pd.read_excel('数值设置新项目.xlsx')\n",
    "\n",
    "\n",
    "with open('output_data.js', 'w', encoding='utf-8') as js_file:\n",
    "    js_file.write(\"var data = {\")\n",
    "    for i in range (0,104):\n",
    "        first_name = df.iloc[i, 0]\n",
    "        last_name = df.iloc[i, 1]\n",
    "        name = str(first_name) + str(last_name)\n",
    "        js_file.write(\"'\"+name+\"':\"+str(i)+\",\\n\")\n",
    "    js_file.write(\"};\")"
   ]
  },
  {
   "cell_type": "code",
   "execution_count": 5,
   "id": "7bb5ca20",
   "metadata": {},
   "outputs": [],
   "source": [
    "import pandas as pd\n",
    "\n",
    "\n",
    "def funProductTxt(index,txtStr):\n",
    "    if index == 0:\n",
    "        return \"firstName:'\"+str(txtStr)+\"',\"\n",
    "    elif index == 1:\n",
    "        return \"lastName:'\"+str(txtStr)+\"',\"\n",
    "    elif index == 2:\n",
    "        return \"sex:'\"+str(txtStr)+\"',\"\n",
    "    elif index == 3:\n",
    "        return \"state:'\"+str(txtStr)+\"',\"\n",
    "    elif index == 4:\n",
    "        return \"cultivation:\"+str(txtStr)+\",\"\n",
    "    elif index == 5:\n",
    "        return \"moral:\"+str(txtStr)+\",\"\n",
    "    elif index == 6:\n",
    "        return \"appearance:\"+str(txtStr)+\",\"\n",
    "    elif index == 7:\n",
    "        return \"wisdom:\"+str(txtStr)+\",\"\n",
    "    elif index == 8:\n",
    "        return \"physique:\"+str(txtStr)+\",\"\n",
    "    elif index == 9:\n",
    "        return \"job:'\"+str(txtStr)+\"',\"\n",
    "    elif index == 10:\n",
    "        return \"grade:'\"+str(txtStr)+\"',\"\n",
    "    elif index == 12:\n",
    "        return \"aimer:'\"+str(txtStr)+\"',\"\n",
    "    elif index == 13:\n",
    "        return \"love:'\"+str(txtStr)+\"',\"\n",
    "    elif index == 14:\n",
    "        return \"foe:'\"+str(txtStr)+\"',\"\n",
    "    elif index == 15:\n",
    "        return \"classify:'\"+str(txtStr)+\"'\"\n",
    "    else:\n",
    "        return \"\"\n",
    "# 读取Excel文件\n",
    "df = pd.read_excel('数值设置新项目.xlsx')\n",
    "with open('output.js', 'w', encoding='utf-8') as js_file:\n",
    "    js_file.write(\"var data = {\")\n",
    "    for clo in range (0,104):\n",
    "        js_file.write(\"'\"+str(clo)+\"':{\")\n",
    "        js_file.write(\"name:'\"+str(df.iloc[clo, 0])+str(df.iloc[clo, 1])+\"',\")\n",
    "        for raw in range(0,15):\n",
    "            txtStrTemp = funProductTxt(raw,df.iloc[clo, raw])\n",
    "            js_file.write(txtStrTemp) \n",
    "        js_file.write(\"},\\n\")\n",
    "    js_file.write(\"};\")        "
   ]
  }
 ],
 "metadata": {
  "kernelspec": {
   "display_name": "Python 3 (ipykernel)",
   "language": "python",
   "name": "python3"
  },
  "language_info": {
   "codemirror_mode": {
    "name": "ipython",
    "version": 3
   },
   "file_extension": ".py",
   "mimetype": "text/x-python",
   "name": "python",
   "nbconvert_exporter": "python",
   "pygments_lexer": "ipython3",
   "version": "3.10.9"
  }
 },
 "nbformat": 4,
 "nbformat_minor": 5
}
